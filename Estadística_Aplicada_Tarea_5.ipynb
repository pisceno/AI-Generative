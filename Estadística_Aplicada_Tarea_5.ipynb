{
  "nbformat": 4,
  "nbformat_minor": 0,
  "metadata": {
    "colab": {
      "provenance": [],
      "authorship_tag": "ABX9TyP739RZMk8DZS38o32cTL0a",
      "include_colab_link": true
    },
    "kernelspec": {
      "name": "python3",
      "display_name": "Python 3"
    },
    "language_info": {
      "name": "python"
    }
  },
  "cells": [
    {
      "cell_type": "markdown",
      "metadata": {
        "id": "view-in-github",
        "colab_type": "text"
      },
      "source": [
        "<a href=\"https://colab.research.google.com/github/pisceno/AI-Generative/blob/main/Estad%C3%ADstica_Aplicada_Tarea_5.ipynb\" target=\"_parent\"><img src=\"https://colab.research.google.com/assets/colab-badge.svg\" alt=\"Open In Colab\"/></a>"
      ]
    },
    {
      "cell_type": "code",
      "execution_count": 1,
      "metadata": {
        "colab": {
          "base_uri": "https://localhost:8080/"
        },
        "id": "d0lfo_h5NG8t",
        "outputId": "7ccccbd2-e47f-47e6-eb32-af7c8c20a891"
      },
      "outputs": [
        {
          "output_type": "stream",
          "name": "stdout",
          "text": [
            "✅ DataFrame cargado exitosamente desde GitHub.\n",
            "Tamaño del dataset: 2000 filas, 26 columnas.\n"
          ]
        }
      ],
      "source": [
        "import pandas as pd\n",
        "import statsmodels.api as sm\n",
        "\n",
        "# 1. Definir la URL RAW de tu archivo en GitHub\n",
        "github_csv_url = 'https://media.githubusercontent.com/media/pisceno/data_sets/refs/heads/main/urban_noise_levels.csv'\n",
        "\n",
        "# 2. Cargar el DataFrame directamente desde la URL de GitHub\n",
        "try:\n",
        "    df = pd.read_csv(github_csv_url)\n",
        "except Exception as e:\n",
        "    print(f\"Error al cargar el archivo desde GitHub: {e}\")\n",
        "    # Si la carga falla, revisa la URL o el estado del repositorio.\n",
        "    raise\n",
        "\n",
        "# 3. Definir la variable dependiente (Y)\n",
        "# 'noise_complaints' es la variable binaria (0/1) que indica la queja por ruido.\n",
        "Y = df['noise_complaints']\n",
        "\n",
        "print(\"✅ DataFrame cargado exitosamente desde GitHub.\")\n",
        "print(f\"Tamaño del dataset: {df.shape[0]} filas, {df.shape[1]} columnas.\")"
      ]
    },
    {
      "cell_type": "code",
      "source": [
        "# Variables clave identificadas en tu análisis (significancia y valor |z|):\n",
        "# vehicle_count, temperature_c, hour, decibel_level, humidity_%\n",
        "\n",
        "# Inicializar resultados\n",
        "resultados_r2 = {}\n",
        "\n",
        "# --- Modelo B: 4 Variables - La combinación más fuerte sugerida ---\n",
        "# Incluye las más significativas y las de alto impacto.\n",
        "vars_B = ['vehicle_count', 'temperature_c', 'hour', 'decibel_level']\n",
        "X_B = sm.add_constant(df[vars_B])\n",
        "modelo_B = sm.Logit(Y, X_B).fit(disp=0)\n",
        "resultados_r2['B (4 vars - Clave)'] = (modelo_B.prsquared, vars_B)\n",
        "\n",
        "# --- Modelo C: 4 Variables - Combinación Alternativa (Probando 'humidity_%') ---\n",
        "# Sustituimos 'hour' por 'humidity_%' para ver si aumenta el ajuste.\n",
        "vars_C = ['vehicle_count', 'temperature_c', 'humidity_%', 'decibel_level']\n",
        "X_C = sm.add_constant(df[vars_C])\n",
        "modelo_C = sm.Logit(Y, X_C).fit(disp=0)\n",
        "resultados_r2['C (4 vars - Alt. Humedad)'] = (modelo_C.prsquared, vars_C)\n",
        "\n",
        "# --- Modelo E: 3 Variables - Parsimonia (Solo las más fuertes y decibel) ---\n",
        "# Se busca el modelo más simple que conserve un alto R^2.\n",
        "vars_E = ['vehicle_count', 'temperature_c', 'decibel_level']\n",
        "X_E = sm.add_constant(df[vars_E])\n",
        "modelo_E = sm.Logit(Y, X_E).fit(disp=0)\n",
        "resultados_r2['E (3 vars - Parsimonia)'] = (modelo_E.prsquared, vars_E)\n",
        "\n",
        "# --- SELECCIÓN DEL MEJOR MODELO ---\n",
        "mejor_modelo_nombre = max(resultados_r2, key=lambda k: resultados_r2[k][0])\n",
        "mejor_r2 = resultados_r2[mejor_modelo_nombre][0]\n",
        "mejor_vars = resultados_r2[mejor_modelo_nombre][1]\n",
        "\n",
        "\n",
        "print(\"\\n--- Resultados de Pseudo R^2 para la Parte VI.1 ---\")\n",
        "for nombre, (r2, vars) in resultados_r2.items():\n",
        "    print(f\"Modelo {nombre}: Pseudo R² = {r2:.6f} | Variables: {', '.join(vars)}\")\n",
        "\n",
        "print(\"\\n------------------------------------------------------\")\n",
        "print(f\"🏆 MEJOR MODELO (Parte VI.1): {mejor_modelo_nombre}\")\n",
        "print(f\"   Pseudo R² Máximo: {mejor_r2:.6f}\")\n",
        "print(f\"   Variables a utilizar: {', '.join(mejor_vars)}\")\n",
        "print(\"------------------------------------------------------\")"
      ],
      "metadata": {
        "colab": {
          "base_uri": "https://localhost:8080/",
          "height": 361
        },
        "id": "jRy6Jyr-aR5S",
        "outputId": "5c102197-d891-4e3d-d962-b334b4a2ad1f"
      },
      "execution_count": 2,
      "outputs": [
        {
          "output_type": "error",
          "ename": "ValueError",
          "evalue": "endog must be in the unit interval.",
          "traceback": [
            "\u001b[0;31m---------------------------------------------------------------------------\u001b[0m",
            "\u001b[0;31mValueError\u001b[0m                                Traceback (most recent call last)",
            "\u001b[0;32m/tmp/ipython-input-3712189857.py\u001b[0m in \u001b[0;36m<cell line: 0>\u001b[0;34m()\u001b[0m\n\u001b[1;32m      9\u001b[0m \u001b[0mvars_B\u001b[0m \u001b[0;34m=\u001b[0m \u001b[0;34m[\u001b[0m\u001b[0;34m'vehicle_count'\u001b[0m\u001b[0;34m,\u001b[0m \u001b[0;34m'temperature_c'\u001b[0m\u001b[0;34m,\u001b[0m \u001b[0;34m'hour'\u001b[0m\u001b[0;34m,\u001b[0m \u001b[0;34m'decibel_level'\u001b[0m\u001b[0;34m]\u001b[0m\u001b[0;34m\u001b[0m\u001b[0;34m\u001b[0m\u001b[0m\n\u001b[1;32m     10\u001b[0m \u001b[0mX_B\u001b[0m \u001b[0;34m=\u001b[0m \u001b[0msm\u001b[0m\u001b[0;34m.\u001b[0m\u001b[0madd_constant\u001b[0m\u001b[0;34m(\u001b[0m\u001b[0mdf\u001b[0m\u001b[0;34m[\u001b[0m\u001b[0mvars_B\u001b[0m\u001b[0;34m]\u001b[0m\u001b[0;34m)\u001b[0m\u001b[0;34m\u001b[0m\u001b[0;34m\u001b[0m\u001b[0m\n\u001b[0;32m---> 11\u001b[0;31m \u001b[0mmodelo_B\u001b[0m \u001b[0;34m=\u001b[0m \u001b[0msm\u001b[0m\u001b[0;34m.\u001b[0m\u001b[0mLogit\u001b[0m\u001b[0;34m(\u001b[0m\u001b[0mY\u001b[0m\u001b[0;34m,\u001b[0m \u001b[0mX_B\u001b[0m\u001b[0;34m)\u001b[0m\u001b[0;34m.\u001b[0m\u001b[0mfit\u001b[0m\u001b[0;34m(\u001b[0m\u001b[0mdisp\u001b[0m\u001b[0;34m=\u001b[0m\u001b[0;36m0\u001b[0m\u001b[0;34m)\u001b[0m\u001b[0;34m\u001b[0m\u001b[0;34m\u001b[0m\u001b[0m\n\u001b[0m\u001b[1;32m     12\u001b[0m \u001b[0mresultados_r2\u001b[0m\u001b[0;34m[\u001b[0m\u001b[0;34m'B (4 vars - Clave)'\u001b[0m\u001b[0;34m]\u001b[0m \u001b[0;34m=\u001b[0m \u001b[0;34m(\u001b[0m\u001b[0mmodelo_B\u001b[0m\u001b[0;34m.\u001b[0m\u001b[0mprsquared\u001b[0m\u001b[0;34m,\u001b[0m \u001b[0mvars_B\u001b[0m\u001b[0;34m)\u001b[0m\u001b[0;34m\u001b[0m\u001b[0;34m\u001b[0m\u001b[0m\n\u001b[1;32m     13\u001b[0m \u001b[0;34m\u001b[0m\u001b[0m\n",
            "\u001b[0;32m/usr/local/lib/python3.12/dist-packages/statsmodels/discrete/discrete_model.py\u001b[0m in \u001b[0;36m__init__\u001b[0;34m(self, endog, exog, offset, check_rank, **kwargs)\u001b[0m\n\u001b[1;32m    477\u001b[0m         \u001b[0;32mif\u001b[0m \u001b[0;32mnot\u001b[0m \u001b[0missubclass\u001b[0m\u001b[0;34m(\u001b[0m\u001b[0mself\u001b[0m\u001b[0;34m.\u001b[0m\u001b[0m__class__\u001b[0m\u001b[0;34m,\u001b[0m \u001b[0mMultinomialModel\u001b[0m\u001b[0;34m)\u001b[0m\u001b[0;34m:\u001b[0m\u001b[0;34m\u001b[0m\u001b[0;34m\u001b[0m\u001b[0m\n\u001b[1;32m    478\u001b[0m             \u001b[0;32mif\u001b[0m \u001b[0;32mnot\u001b[0m \u001b[0mnp\u001b[0m\u001b[0;34m.\u001b[0m\u001b[0mall\u001b[0m\u001b[0;34m(\u001b[0m\u001b[0;34m(\u001b[0m\u001b[0mself\u001b[0m\u001b[0;34m.\u001b[0m\u001b[0mendog\u001b[0m \u001b[0;34m>=\u001b[0m \u001b[0;36m0\u001b[0m\u001b[0;34m)\u001b[0m \u001b[0;34m&\u001b[0m \u001b[0;34m(\u001b[0m\u001b[0mself\u001b[0m\u001b[0;34m.\u001b[0m\u001b[0mendog\u001b[0m \u001b[0;34m<=\u001b[0m \u001b[0;36m1\u001b[0m\u001b[0;34m)\u001b[0m\u001b[0;34m)\u001b[0m\u001b[0;34m:\u001b[0m\u001b[0;34m\u001b[0m\u001b[0;34m\u001b[0m\u001b[0m\n\u001b[0;32m--> 479\u001b[0;31m                 \u001b[0;32mraise\u001b[0m \u001b[0mValueError\u001b[0m\u001b[0;34m(\u001b[0m\u001b[0;34m\"endog must be in the unit interval.\"\u001b[0m\u001b[0;34m)\u001b[0m\u001b[0;34m\u001b[0m\u001b[0;34m\u001b[0m\u001b[0m\n\u001b[0m\u001b[1;32m    480\u001b[0m \u001b[0;34m\u001b[0m\u001b[0m\n\u001b[1;32m    481\u001b[0m         \u001b[0;32mif\u001b[0m \u001b[0moffset\u001b[0m \u001b[0;32mis\u001b[0m \u001b[0;32mNone\u001b[0m\u001b[0;34m:\u001b[0m\u001b[0;34m\u001b[0m\u001b[0;34m\u001b[0m\u001b[0m\n",
            "\u001b[0;31mValueError\u001b[0m: endog must be in the unit interval."
          ]
        }
      ]
    },
    {
      "cell_type": "code",
      "source": [
        "# Diagnóstico de la variable dependiente Y\n",
        "print(\"--- Diagnóstico de la variable 'noise_complaints' ---\")\n",
        "print(\"Valores únicos:\", df['noise_complaints'].unique())\n",
        "print(\"Tipo de dato:\", df['noise_complaints'].dtype)\n",
        "print(\"Valores nulos (NaN):\", df['noise_complaints'].isnull().sum())\n",
        "print(\"Distribución de valores (Count):\", df['noise_complaints'].value_counts(dropna=False))"
      ],
      "metadata": {
        "colab": {
          "base_uri": "https://localhost:8080/"
        },
        "id": "vmuZVzD4au2n",
        "outputId": "dc0eb138-2d17-4fee-de3e-174beef61de0"
      },
      "execution_count": 3,
      "outputs": [
        {
          "output_type": "stream",
          "name": "stdout",
          "text": [
            "--- Diagnóstico de la variable 'noise_complaints' ---\n",
            "Valores únicos: [1 0 2 4 3 5]\n",
            "Tipo de dato: int64\n",
            "Valores nulos (NaN): 0\n",
            "Distribución de valores (Count): noise_complaints\n",
            "1    747\n",
            "0    738\n",
            "2    362\n",
            "3    118\n",
            "4     28\n",
            "5      7\n",
            "Name: count, dtype: int64\n"
          ]
        }
      ]
    },
    {
      "cell_type": "code",
      "source": [
        "import pandas as pd\n",
        "import statsmodels.api as sm\n",
        "\n",
        "# Suponemos que df ya está cargado desde GitHub (Paso 1 completado)\n",
        "\n",
        "# 1. Crear la nueva variable dependiente binaria (Y_binary)\n",
        "# Criterio: 1 si las quejas son 2 o más, 0 si son 0 o 1.\n",
        "df['high_complaint'] = (df['noise_complaints'] >= 2).astype(int)\n",
        "\n",
        "# 2. Redefinir la variable dependiente (Y) con la nueva variable binaria\n",
        "Y_binary = df['high_complaint']\n",
        "\n",
        "print(\"✅ Variable dependiente transformada a binaria 'high_complaint'.\")\n",
        "print(\"Valores únicos de la nueva Y:\", Y_binary.unique())\n",
        "print(\"Distribución (0 vs 1):\", Y_binary.value_counts())\n",
        "\n",
        "# -------------------------------------------------------------------\n",
        "# Re-ejecutar las pruebas de combinaciones (Parte VI.1)\n",
        "# -------------------------------------------------------------------\n",
        "\n",
        "# Variables clave identificadas en tu análisis (mismas de antes, pero con Y binaria)\n",
        "# vehicle_count, temperature_c, hour, decibel_level, humidity_%\n",
        "\n",
        "resultados_r2 = {}\n",
        "\n",
        "# --- Modelo B: 4 Variables - La combinación más fuerte sugerida ---\n",
        "vars_B = ['vehicle_count', 'temperature_c', 'hour', 'decibel_level']\n",
        "X_B = sm.add_constant(df[vars_B])\n",
        "# Usamos Y_binary en el modelo\n",
        "modelo_B = sm.Logit(Y_binary, X_B).fit(disp=0)\n",
        "resultados_r2['B (4 vars - Clave)'] = (modelo_B.prsquared, vars_B)\n",
        "\n",
        "# --- Modelo C: 4 Variables - Combinación Alternativa (Probando 'humidity_%') ---\n",
        "vars_C = ['vehicle_count', 'temperature_c', 'humidity_%', 'decibel_level']\n",
        "X_C = sm.add_constant(df[vars_C])\n",
        "modelo_C = sm.Logit(Y_binary, X_C).fit(disp=0)\n",
        "resultados_r2['C (4 vars - Alt. Humedad)'] = (modelo_C.prsquared, vars_C)\n",
        "\n",
        "# --- Modelo E: 3 Variables - Parsimonia ---\n",
        "vars_E = ['vehicle_count', 'temperature_c', 'decibel_level']\n",
        "X_E = sm.add_constant(df[vars_E])\n",
        "modelo_E = sm.Logit(Y_binary, X_E).fit(disp=0)\n",
        "resultados_r2['E (3 vars - Parsimonia)'] = (modelo_E.prsquared, vars_E)\n",
        "\n",
        "\n",
        "# --- SELECCIÓN DEL MEJOR MODELO ---\n",
        "mejor_modelo_nombre = max(resultados_r2, key=lambda k: resultados_r2[k][0])\n",
        "mejor_r2 = resultados_r2[mejor_modelo_nombre][0]\n",
        "mejor_vars = resultados_r2[mejor_modelo_nombre][1]\n",
        "\n",
        "\n",
        "print(\"\\n--- Resultados de Pseudo R^2 para la Parte VI.1 (Con Y binaria) ---\")\n",
        "for nombre, (r2, vars) in resultados_r2.items():\n",
        "    print(f\"Modelo {nombre}: Pseudo R² = {r2:.6f} | Variables: {', '.join(vars)}\")\n",
        "\n",
        "print(\"\\n------------------------------------------------------\")\n",
        "print(f\"🏆 MEJOR MODELO (Parte VI.1): {mejor_modelo_nombre}\")\n",
        "print(f\"   Pseudo R² Máximo: {mejor_r2:.6f}\")\n",
        "print(f\"   Variables a utilizar: {', '.join(mejor_vars)}\")\n",
        "print(\"------------------------------------------------------\")"
      ],
      "metadata": {
        "colab": {
          "base_uri": "https://localhost:8080/"
        },
        "id": "hmkaO5WUbKsF",
        "outputId": "49b6bf1b-cbf6-4ed5-e48c-8b60b269f686"
      },
      "execution_count": 4,
      "outputs": [
        {
          "output_type": "stream",
          "name": "stdout",
          "text": [
            "✅ Variable dependiente transformada a binaria 'high_complaint'.\n",
            "Valores únicos de la nueva Y: [0 1]\n",
            "Distribución (0 vs 1): high_complaint\n",
            "0    1485\n",
            "1     515\n",
            "Name: count, dtype: int64\n",
            "\n",
            "--- Resultados de Pseudo R^2 para la Parte VI.1 (Con Y binaria) ---\n",
            "Modelo B (4 vars - Clave): Pseudo R² = 0.005845 | Variables: vehicle_count, temperature_c, hour, decibel_level\n",
            "Modelo C (4 vars - Alt. Humedad): Pseudo R² = 0.005612 | Variables: vehicle_count, temperature_c, humidity_%, decibel_level\n",
            "Modelo E (3 vars - Parsimonia): Pseudo R² = 0.005560 | Variables: vehicle_count, temperature_c, decibel_level\n",
            "\n",
            "------------------------------------------------------\n",
            "🏆 MEJOR MODELO (Parte VI.1): B (4 vars - Clave)\n",
            "   Pseudo R² Máximo: 0.005845\n",
            "   Variables a utilizar: vehicle_count, temperature_c, hour, decibel_level\n",
            "------------------------------------------------------\n"
          ]
        }
      ]
    }
  ]
}