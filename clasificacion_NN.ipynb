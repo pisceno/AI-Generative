{
  "nbformat": 4,
  "nbformat_minor": 0,
  "metadata": {
    "colab": {
      "provenance": [],
      "authorship_tag": "ABX9TyP1qdOmbwdmRTTLEK3CZCyf",
      "include_colab_link": true
    },
    "kernelspec": {
      "name": "python3",
      "display_name": "Python 3"
    },
    "language_info": {
      "name": "python"
    }
  },
  "cells": [
    {
      "cell_type": "markdown",
      "metadata": {
        "id": "view-in-github",
        "colab_type": "text"
      },
      "source": [
        "<a href=\"https://colab.research.google.com/github/pisceno/AI-Generative/blob/main/clasificacion_NN.ipynb\" target=\"_parent\"><img src=\"https://colab.research.google.com/assets/colab-badge.svg\" alt=\"Open In Colab\"/></a>"
      ]
    },
    {
      "cell_type": "code",
      "execution_count": null,
      "metadata": {
        "colab": {
          "base_uri": "https://localhost:8080/"
        },
        "id": "koDcebTyL2is",
        "outputId": "c22840e6-13ae-45c4-b589-b00d84b49610"
      },
      "outputs": [
        {
          "output_type": "stream",
          "name": "stdout",
          "text": [
            "Descargando wdbc.data desde GitHub...\n",
            "✅ Archivo wdbc.data descargado y guardado localmente.\n"
          ]
        }
      ],
      "source": [
        "import requests\n",
        "import os\n",
        "import numpy as np\n",
        "import csv\n",
        "\n",
        "# ====================================================================\n",
        "# CONFIGURACIÓN DE DESCARGA\n",
        "# ====================================================================\n",
        "# URL RAW DE TU REPOSITORIO DE GITHUB\n",
        "# Esta URL debe funcionar porque apunta al servidor de contenido crudo.\n",
        "RAW_URL_WDBC = \"https://raw.githubusercontent.com/pisceno/data_sets/main/wdbc.data\"\n",
        "# Nombre del archivo que se guardará localmente\n",
        "DATA_PATH_LOCAL = \"wdbc.data\"\n",
        "\n",
        "print(f\"Descargando {DATA_PATH_LOCAL} desde GitHub...\")\n",
        "\n",
        "try:\n",
        "    response = requests.get(RAW_URL_WDBC)\n",
        "    response.raise_for_status() # Lanza un error si la descarga falla\n",
        "\n",
        "    # Guarda el contenido en un archivo local llamado 'wdbc.data'\n",
        "    with open(DATA_PATH_LOCAL, 'wb') as f:\n",
        "        f.write(response.content)\n",
        "\n",
        "    print(f\"✅ Archivo {DATA_PATH_LOCAL} descargado y guardado localmente.\")\n",
        "\n",
        "except requests.exceptions.HTTPError as errh:\n",
        "    print(f\"❌ Error HTTP al descargar. Verifica que el archivo exista en la URL RAW.\")\n",
        "except Exception as e:\n",
        "    print(f\"❌ Ocurrió un error general en la descarga: {e}\")"
      ]
    },
    {
      "cell_type": "code",
      "source": [
        "%%writefile clasificacion_NN.py\n",
        "import numpy as np\n",
        "import csv\n",
        "import sys\n",
        "import os\n",
        "\n",
        "# ==============================================================================\n",
        "# CONFIGURACIÓN (Ruta local)\n",
        "# ==============================================================================\n",
        "# ¡SOLO EL NOMBRE DEL ARCHIVO LOCAL! El script lo buscará en la máquina de Colab.\n",
        "DATA_PATH = \"wdbc.data\"\n",
        "LEARNING_RATE = 0.01\n",
        "ITERATIONS = 50000\n",
        "\n",
        "# ==============================================================================\n",
        "# FUNCIONES NÚCLEO (IMPLEMENTACIÓN DESDE CERO)\n",
        "# ==============================================================================\n",
        "\n",
        "def sigmoid(z):\n",
        "    \"\"\"Función de activación Sigmoid: sigma(z) = 1 / (1 + e^(-z))\"\"\"\n",
        "    z = np.clip(z, -500, 500)\n",
        "    return 1 / (1 + np.exp(-z))\n",
        "\n",
        "def compute_cost(X, y, w):\n",
        "    \"\"\"Cálculo del Error (Costo) - Binary Cross-Entropy (Log Loss)\"\"\"\n",
        "    m = len(y)\n",
        "    h = sigmoid(X @ w)\n",
        "    h = np.clip(h, 1e-15, 1 - 1e-15)\n",
        "    cost = (-1/m) * (y.T @ np.log(h) + (1 - y).T @ np.log(1 - h))\n",
        "    return cost\n",
        "\n",
        "def gradient_descent(X, y, w, learning_rate, iterations):\n",
        "    \"\"\"Algoritmo de optimización de Gradiente Descendente.\"\"\"\n",
        "    m = len(y)\n",
        "    for i in range(iterations):\n",
        "        h = sigmoid(X @ w)\n",
        "        gradient = (1/m) * X.T @ (h - y)\n",
        "        w -= learning_rate * gradient\n",
        "    return w\n",
        "\n",
        "def standardize_features(X):\n",
        "    \"\"\"Estandariza las características (media 0, desviación estándar 1).\"\"\"\n",
        "    mu = np.mean(X, axis=0)\n",
        "    sigma = np.std(X, axis=0)\n",
        "    sigma[sigma == 0] = 1\n",
        "    X_norm = (X - mu) / sigma\n",
        "    return X_norm\n",
        "\n",
        "# ==============================================================================\n",
        "# EJECUCIÓN PRINCIPAL\n",
        "# ==============================================================================\n",
        "if __name__ == \"__main__\":\n",
        "\n",
        "    # Verificación de existencia de archivo local\n",
        "    if not os.path.exists(DATA_PATH):\n",
        "        print(f\"Error: No se encontró el archivo de datos '{DATA_PATH}'.\")\n",
        "        print(\"Asegúrate de ejecutar la celda de descarga de GitHub previamente.\")\n",
        "        sys.exit(1)\n",
        "\n",
        "    try:\n",
        "        # 1. CARGAR Y PREPROCESAR LOS DATOS\n",
        "        data = []\n",
        "        # 'open(DATA_PATH, 'r')' busca el archivo localmente\n",
        "        with open(DATA_PATH, 'r') as file:\n",
        "            reader = csv.reader(file)\n",
        "            for row in reader:\n",
        "                # Ignorar ID (columna 0) y tomar el resto\n",
        "                data.append(row[1:])\n",
        "\n",
        "        data = np.array(data)\n",
        "\n",
        "        # Separar, codificar y estandarizar\n",
        "        y_raw = data[:, 0]\n",
        "        X_raw = data[:, 1:].astype(float)\n",
        "        y = np.where(y_raw == 'M', 1, 0) # M=1, B=0\n",
        "\n",
        "        X_norm = standardize_features(X_raw)\n",
        "        X = np.hstack([np.ones((X_norm.shape[0], 1)), X_norm]) # Añadir Bias (w0)\n",
        "\n",
        "        # 2. ENTRENAMIENTO DEL MODELO\n",
        "        num_features = X.shape[1]\n",
        "        initial_w = np.zeros(num_features)\n",
        "        final_w = gradient_descent(X, y, initial_w, LEARNING_RATE, ITERATIONS)\n",
        "\n",
        "        # 3. CÁLCULO DEL ERROR FINAL\n",
        "        final_error = compute_cost(X, y, final_w)\n",
        "\n",
        "        # 4. GENERAR LA SALIDA REQUERIDA (w0 w1 ... wk E)\n",
        "        output = []\n",
        "        output.append(f\"w0: {final_w[0]:.6f}\")\n",
        "        for i in range(1, num_features):\n",
        "            output.append(f\"w{i}: {final_w[i]:.6f}\")\n",
        "        output.append(f\"E: {final_error:.6f}\")\n",
        "\n",
        "        print(' '.join(output))\n",
        "\n",
        "    except Exception as e:\n",
        "        print(f\"Ocurrió un error durante la ejecución: {e}\")"
      ],
      "metadata": {
        "colab": {
          "base_uri": "https://localhost:8080/"
        },
        "id": "kqqbwggfNRp7",
        "outputId": "535c0d38-4cd7-49b8-cc90-801bd582febf"
      },
      "execution_count": null,
      "outputs": [
        {
          "output_type": "stream",
          "name": "stdout",
          "text": [
            "Writing clasificacion_NN.py\n"
          ]
        }
      ]
    },
    {
      "cell_type": "code",
      "source": [
        "!python clasificacion_NN.py"
      ],
      "metadata": {
        "colab": {
          "base_uri": "https://localhost:8080/"
        },
        "id": "sbpQmjDiNgkU",
        "outputId": "7639557e-0839-4d8a-88ad-afa479db2fc5"
      },
      "execution_count": 3,
      "outputs": [
        {
          "output_type": "stream",
          "name": "stdout",
          "text": [
            "python3: can't open file '/content/clasificacion_NN.py': [Errno 2] No such file or directory\n"
          ]
        }
      ]
    },
    {
      "cell_type": "code",
      "source": [
        "from google.colab import files\n",
        "\n",
        "# Esto abrirá una ventana para que selecciones el archivo en tu computadora\n",
        "print(\"Por favor, sube el archivo wdbc.data\")\n",
        "uploaded = files.upload()"
      ],
      "metadata": {
        "colab": {
          "base_uri": "https://localhost:8080/",
          "height": 92
        },
        "id": "3ae0as76PRMS",
        "outputId": "f1fafe0a-c922-45a6-9789-c8db952101dd"
      },
      "execution_count": null,
      "outputs": [
        {
          "output_type": "stream",
          "name": "stdout",
          "text": [
            "Por favor, sube el archivo wdbc.data\n"
          ]
        },
        {
          "output_type": "display_data",
          "data": {
            "text/plain": [
              "<IPython.core.display.HTML object>"
            ],
            "text/html": [
              "\n",
              "     <input type=\"file\" id=\"files-3711b1a1-53a8-40ec-9d9f-4e296467d77d\" name=\"files[]\" multiple disabled\n",
              "        style=\"border:none\" />\n",
              "     <output id=\"result-3711b1a1-53a8-40ec-9d9f-4e296467d77d\">\n",
              "      Upload widget is only available when the cell has been executed in the\n",
              "      current browser session. Please rerun this cell to enable.\n",
              "      </output>\n",
              "      <script>// Copyright 2017 Google LLC\n",
              "//\n",
              "// Licensed under the Apache License, Version 2.0 (the \"License\");\n",
              "// you may not use this file except in compliance with the License.\n",
              "// You may obtain a copy of the License at\n",
              "//\n",
              "//      http://www.apache.org/licenses/LICENSE-2.0\n",
              "//\n",
              "// Unless required by applicable law or agreed to in writing, software\n",
              "// distributed under the License is distributed on an \"AS IS\" BASIS,\n",
              "// WITHOUT WARRANTIES OR CONDITIONS OF ANY KIND, either express or implied.\n",
              "// See the License for the specific language governing permissions and\n",
              "// limitations under the License.\n",
              "\n",
              "/**\n",
              " * @fileoverview Helpers for google.colab Python module.\n",
              " */\n",
              "(function(scope) {\n",
              "function span(text, styleAttributes = {}) {\n",
              "  const element = document.createElement('span');\n",
              "  element.textContent = text;\n",
              "  for (const key of Object.keys(styleAttributes)) {\n",
              "    element.style[key] = styleAttributes[key];\n",
              "  }\n",
              "  return element;\n",
              "}\n",
              "\n",
              "// Max number of bytes which will be uploaded at a time.\n",
              "const MAX_PAYLOAD_SIZE = 100 * 1024;\n",
              "\n",
              "function _uploadFiles(inputId, outputId) {\n",
              "  const steps = uploadFilesStep(inputId, outputId);\n",
              "  const outputElement = document.getElementById(outputId);\n",
              "  // Cache steps on the outputElement to make it available for the next call\n",
              "  // to uploadFilesContinue from Python.\n",
              "  outputElement.steps = steps;\n",
              "\n",
              "  return _uploadFilesContinue(outputId);\n",
              "}\n",
              "\n",
              "// This is roughly an async generator (not supported in the browser yet),\n",
              "// where there are multiple asynchronous steps and the Python side is going\n",
              "// to poll for completion of each step.\n",
              "// This uses a Promise to block the python side on completion of each step,\n",
              "// then passes the result of the previous step as the input to the next step.\n",
              "function _uploadFilesContinue(outputId) {\n",
              "  const outputElement = document.getElementById(outputId);\n",
              "  const steps = outputElement.steps;\n",
              "\n",
              "  const next = steps.next(outputElement.lastPromiseValue);\n",
              "  return Promise.resolve(next.value.promise).then((value) => {\n",
              "    // Cache the last promise value to make it available to the next\n",
              "    // step of the generator.\n",
              "    outputElement.lastPromiseValue = value;\n",
              "    return next.value.response;\n",
              "  });\n",
              "}\n",
              "\n",
              "/**\n",
              " * Generator function which is called between each async step of the upload\n",
              " * process.\n",
              " * @param {string} inputId Element ID of the input file picker element.\n",
              " * @param {string} outputId Element ID of the output display.\n",
              " * @return {!Iterable<!Object>} Iterable of next steps.\n",
              " */\n",
              "function* uploadFilesStep(inputId, outputId) {\n",
              "  const inputElement = document.getElementById(inputId);\n",
              "  inputElement.disabled = false;\n",
              "\n",
              "  const outputElement = document.getElementById(outputId);\n",
              "  outputElement.innerHTML = '';\n",
              "\n",
              "  const pickedPromise = new Promise((resolve) => {\n",
              "    inputElement.addEventListener('change', (e) => {\n",
              "      resolve(e.target.files);\n",
              "    });\n",
              "  });\n",
              "\n",
              "  const cancel = document.createElement('button');\n",
              "  inputElement.parentElement.appendChild(cancel);\n",
              "  cancel.textContent = 'Cancel upload';\n",
              "  const cancelPromise = new Promise((resolve) => {\n",
              "    cancel.onclick = () => {\n",
              "      resolve(null);\n",
              "    };\n",
              "  });\n",
              "\n",
              "  // Wait for the user to pick the files.\n",
              "  const files = yield {\n",
              "    promise: Promise.race([pickedPromise, cancelPromise]),\n",
              "    response: {\n",
              "      action: 'starting',\n",
              "    }\n",
              "  };\n",
              "\n",
              "  cancel.remove();\n",
              "\n",
              "  // Disable the input element since further picks are not allowed.\n",
              "  inputElement.disabled = true;\n",
              "\n",
              "  if (!files) {\n",
              "    return {\n",
              "      response: {\n",
              "        action: 'complete',\n",
              "      }\n",
              "    };\n",
              "  }\n",
              "\n",
              "  for (const file of files) {\n",
              "    const li = document.createElement('li');\n",
              "    li.append(span(file.name, {fontWeight: 'bold'}));\n",
              "    li.append(span(\n",
              "        `(${file.type || 'n/a'}) - ${file.size} bytes, ` +\n",
              "        `last modified: ${\n",
              "            file.lastModifiedDate ? file.lastModifiedDate.toLocaleDateString() :\n",
              "                                    'n/a'} - `));\n",
              "    const percent = span('0% done');\n",
              "    li.appendChild(percent);\n",
              "\n",
              "    outputElement.appendChild(li);\n",
              "\n",
              "    const fileDataPromise = new Promise((resolve) => {\n",
              "      const reader = new FileReader();\n",
              "      reader.onload = (e) => {\n",
              "        resolve(e.target.result);\n",
              "      };\n",
              "      reader.readAsArrayBuffer(file);\n",
              "    });\n",
              "    // Wait for the data to be ready.\n",
              "    let fileData = yield {\n",
              "      promise: fileDataPromise,\n",
              "      response: {\n",
              "        action: 'continue',\n",
              "      }\n",
              "    };\n",
              "\n",
              "    // Use a chunked sending to avoid message size limits. See b/62115660.\n",
              "    let position = 0;\n",
              "    do {\n",
              "      const length = Math.min(fileData.byteLength - position, MAX_PAYLOAD_SIZE);\n",
              "      const chunk = new Uint8Array(fileData, position, length);\n",
              "      position += length;\n",
              "\n",
              "      const base64 = btoa(String.fromCharCode.apply(null, chunk));\n",
              "      yield {\n",
              "        response: {\n",
              "          action: 'append',\n",
              "          file: file.name,\n",
              "          data: base64,\n",
              "        },\n",
              "      };\n",
              "\n",
              "      let percentDone = fileData.byteLength === 0 ?\n",
              "          100 :\n",
              "          Math.round((position / fileData.byteLength) * 100);\n",
              "      percent.textContent = `${percentDone}% done`;\n",
              "\n",
              "    } while (position < fileData.byteLength);\n",
              "  }\n",
              "\n",
              "  // All done.\n",
              "  yield {\n",
              "    response: {\n",
              "      action: 'complete',\n",
              "    }\n",
              "  };\n",
              "}\n",
              "\n",
              "scope.google = scope.google || {};\n",
              "scope.google.colab = scope.google.colab || {};\n",
              "scope.google.colab._files = {\n",
              "  _uploadFiles,\n",
              "  _uploadFilesContinue,\n",
              "};\n",
              "})(self);\n",
              "</script> "
            ]
          },
          "metadata": {}
        },
        {
          "output_type": "stream",
          "name": "stdout",
          "text": [
            "Saving wdbc.data to wdbc (1).data\n"
          ]
        }
      ]
    },
    {
      "cell_type": "code",
      "source": [
        "import os\n",
        "\n",
        "# 1. Renombrar el archivo subido (el nombre que Colab le dio) a 'wdbc.data'\n",
        "try:\n",
        "    os.rename(\"wdbc (1).data\", \"wdbc.data\")\n",
        "    print(\"✅ Archivo renombrado exitosamente a wdbc.data.\")\n",
        "except FileNotFoundError:\n",
        "    # Si 'wdbc (1).data' no existe, puede ser que el nombre original sí\n",
        "    if os.path.exists(\"wdbc.data\"):\n",
        "        print(\"El archivo wdbc.data ya existe. Listo para el Paso 2.\")\n",
        "    else:\n",
        "        print(\"❌ Error: Los archivos no se encuentran en el entorno. Vuelve a ejecutar la celda de subida.\")"
      ],
      "metadata": {
        "colab": {
          "base_uri": "https://localhost:8080/"
        },
        "id": "LhUHPXu8P7fR",
        "outputId": "090315c4-3055-47db-f4b0-6f34d2e2403d"
      },
      "execution_count": null,
      "outputs": [
        {
          "output_type": "stream",
          "name": "stdout",
          "text": [
            "✅ Archivo renombrado exitosamente a wdbc.data.\n"
          ]
        }
      ]
    },
    {
      "cell_type": "code",
      "source": [
        "%%writefile clasificacion_NN.py\n",
        "import numpy as np\n",
        "import csv\n",
        "import sys\n",
        "import os\n",
        "\n",
        "# ==============================================================================\n",
        "# CONFIGURACIÓN\n",
        "# ==============================================================================\n",
        "DATA_PATH = \"wdbc.data\"\n",
        "LEARNING_RATE = 0.01\n",
        "ITERATIONS = 50000\n",
        "\n",
        "# ==============================================================================\n",
        "# FUNCIONES NÚCLEO\n",
        "# ==============================================================================\n",
        "\n",
        "def sigmoid(z):\n",
        "    z = np.clip(z, -500, 500)\n",
        "    return 1 / (1 + np.exp(-z))\n",
        "\n",
        "def compute_cost(X, y, w):\n",
        "    m = len(y)\n",
        "    h = sigmoid(X @ w)\n",
        "    h = np.clip(h, 1e-15, 1 - 1e-15)\n",
        "    cost = (-1/m) * (y.T @ np.log(h) + (1 - y).T @ np.log(1 - h))\n",
        "    return cost\n",
        "\n",
        "def gradient_descent(X, y, w, learning_rate, iterations):\n",
        "    m = len(y)\n",
        "    for i in range(iterations):\n",
        "        h = sigmoid(X @ w)\n",
        "        gradient = (1/m) * X.T @ (h - y)\n",
        "        w -= learning_rate * gradient\n",
        "    return w\n",
        "\n",
        "def standardize_features(X):\n",
        "    mu = np.mean(X, axis=0)\n",
        "    sigma = np.std(X, axis=0)\n",
        "    sigma[sigma == 0] = 1\n",
        "    X_norm = (X - mu) / sigma\n",
        "    return X_norm\n",
        "\n",
        "# ==============================================================================\n",
        "# EJECUCIÓN PRINCIPAL\n",
        "# ==============================================================================\n",
        "if __name__ == \"__main__\":\n",
        "\n",
        "    if not os.path.exists(DATA_PATH):\n",
        "        print(f\"Error: No se encontró el archivo de datos '{DATA_PATH}'.\")\n",
        "        sys.exit(1)\n",
        "\n",
        "    try:\n",
        "        data = []\n",
        "        with open(DATA_PATH, 'r') as file:\n",
        "            reader = csv.reader(file)\n",
        "            for row in reader:\n",
        "                data.append(row[1:])\n",
        "\n",
        "        data = np.array(data)\n",
        "\n",
        "        y_raw = data[:, 0]\n",
        "        X_raw = data[:, 1:].astype(float)\n",
        "        y = np.where(y_raw == 'M', 1, 0)\n",
        "\n",
        "        X_norm = standardize_features(X_raw)\n",
        "        X = np.hstack([np.ones((X_norm.shape[0], 1)), X_norm])\n",
        "\n",
        "        num_features = X.shape[1]\n",
        "        initial_w = np.zeros(num_features)\n",
        "        final_w = gradient_descent(X, y, initial_w, LEARNING_RATE, ITERATIONS)\n",
        "\n",
        "        final_error = compute_cost(X, y, final_w)\n",
        "\n",
        "        output = []\n",
        "        output.append(f\"w0: {final_w[0]:.6f}\")\n",
        "        for i in range(1, num_features):\n",
        "            output.append(f\"w{i}: {final_w[i]:.6f}\")\n",
        "        output.append(f\"E: {final_error:.6f}\")\n",
        "\n",
        "        print(' '.join(output))\n",
        "\n",
        "    except Exception as e:\n",
        "        print(f\"Ocurrió un error durante la ejecución: {e}\")"
      ],
      "metadata": {
        "id": "RPkfbpxNqdCA",
        "outputId": "77d22b85-e239-4bfe-a78a-bff12b05bde5",
        "colab": {
          "base_uri": "https://localhost:8080/"
        }
      },
      "execution_count": 6,
      "outputs": [
        {
          "output_type": "stream",
          "name": "stdout",
          "text": [
            "Writing clasificacion_NN.py\n"
          ]
        }
      ]
    },
    {
      "cell_type": "code",
      "source": [
        "!python clasificacion_NN.py"
      ],
      "metadata": {
        "id": "P9kA-ceHqiZG",
        "outputId": "61ed27c9-9485-44e0-a7cf-6c08d06f0f34",
        "colab": {
          "base_uri": "https://localhost:8080/"
        }
      },
      "execution_count": 7,
      "outputs": [
        {
          "output_type": "stream",
          "name": "stdout",
          "text": [
            "Error: No se encontró el archivo de datos 'wdbc.data'.\n"
          ]
        }
      ]
    },
    {
      "cell_type": "code",
      "source": [],
      "metadata": {
        "id": "FbWiFfTUqiSz"
      },
      "execution_count": null,
      "outputs": []
    }
  ]
}